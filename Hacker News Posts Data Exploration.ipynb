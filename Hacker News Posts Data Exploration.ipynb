{
 "cells": [
  {
   "cell_type": "markdown",
   "id": "4bb02481",
   "metadata": {},
   "source": [
    "# Hacker News Posts Data Exploration\n",
    "\n",
    "This project will focus on exploring a dataset of posts from the forum Hacker News. Conclusions on how post time and type affect engagement will be drawn.\n"
   ]
  },
  {
   "cell_type": "code",
   "execution_count": 1,
   "id": "a0212a39",
   "metadata": {
    "scrolled": false
   },
   "outputs": [
    {
     "name": "stdout",
     "output_type": "stream",
     "text": [
      "[['id', 'title', 'url', 'num_points', 'num_comments', 'author', 'created_at'], ['12224879', 'Interactive Dynamic Video', 'http://www.interactivedynamicvideo.com/', '386', '52', 'ne0phyte', '8/4/2016 11:52'], ['10975351', 'How to Use Open Source and Shut the Fuck Up at the Same Time', 'http://hueniverse.com/2016/01/26/how-to-use-open-source-and-shut-the-fuck-up-at-the-same-time/', '39', '10', 'josep2', '1/26/2016 19:30'], ['11964716', \"Florida DJs May Face Felony for April Fools' Water Joke\", 'http://www.thewire.com/entertainment/2013/04/florida-djs-april-fools-water-joke/63798/', '2', '1', 'vezycash', '6/23/2016 22:20'], ['11919867', 'Technology ventures: From Idea to Enterprise', 'https://www.amazon.com/Technology-Ventures-Enterprise-Thomas-Byers/dp/0073523429', '3', '1', 'hswarna', '6/17/2016 0:01']]\n"
     ]
    }
   ],
   "source": [
    "from csv import reader\n",
    "with open('hacker_news.csv', 'r') as read_file:\n",
    "    hn = list(reader(read_file))\n",
    "    \n",
    "print(hn[0:5])"
   ]
  },
  {
   "cell_type": "markdown",
   "id": "6424cf8d",
   "metadata": {},
   "source": [
    "Let's separate the headers from the dataset."
   ]
  },
  {
   "cell_type": "code",
   "execution_count": 2,
   "id": "7a3aa08c",
   "metadata": {},
   "outputs": [
    {
     "name": "stdout",
     "output_type": "stream",
     "text": [
      "['id', 'title', 'url', 'num_points', 'num_comments', 'author', 'created_at']\n",
      "[['12224879', 'Interactive Dynamic Video', 'http://www.interactivedynamicvideo.com/', '386', '52', 'ne0phyte', '8/4/2016 11:52'], ['10975351', 'How to Use Open Source and Shut the Fuck Up at the Same Time', 'http://hueniverse.com/2016/01/26/how-to-use-open-source-and-shut-the-fuck-up-at-the-same-time/', '39', '10', 'josep2', '1/26/2016 19:30'], ['11964716', \"Florida DJs May Face Felony for April Fools' Water Joke\", 'http://www.thewire.com/entertainment/2013/04/florida-djs-april-fools-water-joke/63798/', '2', '1', 'vezycash', '6/23/2016 22:20'], ['11919867', 'Technology ventures: From Idea to Enterprise', 'https://www.amazon.com/Technology-Ventures-Enterprise-Thomas-Byers/dp/0073523429', '3', '1', 'hswarna', '6/17/2016 0:01']]\n"
     ]
    }
   ],
   "source": [
    "headers = hn[0]\n",
    "del hn[0]\n",
    "print(headers)\n",
    "print(hn[0:4])"
   ]
  },
  {
   "cell_type": "markdown",
   "id": "78ff7e20",
   "metadata": {},
   "source": [
    "There are three types of posts. Here they are separated into individual lists `ask_hn`, `show_hn`, and `other_posts`.\n"
   ]
  },
  {
   "cell_type": "code",
   "execution_count": 3,
   "id": "5689fa9e",
   "metadata": {},
   "outputs": [
    {
     "name": "stdout",
     "output_type": "stream",
     "text": [
      "1744\n",
      "1162\n",
      "17194\n"
     ]
    }
   ],
   "source": [
    "ask_posts = []\n",
    "show_posts = []\n",
    "other_posts = []\n",
    "\n",
    "for row in hn:\n",
    "    if row[1].lower().startswith('ask hn'):\n",
    "        ask_posts.append(row)\n",
    "    elif row[1].lower().startswith('show hn'):\n",
    "        show_posts.append(row)\n",
    "    else:\n",
    "        other_posts.append(row)\n",
    "        \n",
    "print(len(ask_posts))\n",
    "print(len(show_posts))\n",
    "print(len(other_posts))"
   ]
  },
  {
   "cell_type": "markdown",
   "id": "9be89823",
   "metadata": {},
   "source": [
    "Let's identify what types of posts receive more comments."
   ]
  },
  {
   "cell_type": "code",
   "execution_count": 4,
   "id": "bc67a546",
   "metadata": {},
   "outputs": [
    {
     "name": "stdout",
     "output_type": "stream",
     "text": [
      "Average comments per ask post: 14.038417431192661\n",
      "Average comments per show post: 10.31669535283993\n",
      "Average comments per other post: 26.8730371059672\n"
     ]
    }
   ],
   "source": [
    "total_ask_comments = 0\n",
    "for ask_post in ask_posts:\n",
    "    total_ask_comments += int(ask_post[4])\n",
    "average_ask_comments = total_ask_comments / len(ask_posts)\n",
    "\n",
    "total_show_comments = 0\n",
    "for show_post in show_posts:\n",
    "    total_show_comments += int(show_post[4])\n",
    "average_show_comments = total_show_comments / len(show_posts)\n",
    "\n",
    "total_other_comments = 0\n",
    "for other_post in other_posts:\n",
    "    total_other_comments += int(other_post[4])\n",
    "average_other_comments = total_other_comments / len(other_posts)\n",
    "\n",
    "print(f'Average comments per ask post: {average_ask_comments}')\n",
    "print(f'Average comments per show post: {average_show_comments}')\n",
    "print(f'Average comments per other post: {average_other_comments}')"
   ]
  },
  {
   "cell_type": "markdown",
   "id": "c8790d35",
   "metadata": {},
   "source": [
    "Here we can see that Ask HN posts receive on average more than 30% more comments than Show HN posts. \n",
    "\n",
    "Let's explore how the time an ask post is created affects the number of comments it receives. "
   ]
  },
  {
   "cell_type": "code",
   "execution_count": 5,
   "id": "54f1b8bf",
   "metadata": {},
   "outputs": [
    {
     "data": {
      "text/plain": [
       "[[9, 5.5777777777777775],\n",
       " [13, 14.741176470588234],\n",
       " [10, 13.440677966101696],\n",
       " [14, 13.233644859813085],\n",
       " [16, 16.796296296296298],\n",
       " [23, 7.985294117647059],\n",
       " [12, 9.41095890410959],\n",
       " [17, 11.46],\n",
       " [15, 38.5948275862069],\n",
       " [21, 16.009174311926607],\n",
       " [20, 21.525],\n",
       " [2, 23.810344827586206],\n",
       " [18, 13.20183486238532],\n",
       " [3, 7.796296296296297],\n",
       " [5, 10.08695652173913],\n",
       " [19, 10.8],\n",
       " [1, 11.383333333333333],\n",
       " [22, 6.746478873239437],\n",
       " [8, 10.25],\n",
       " [4, 7.170212765957447],\n",
       " [0, 8.127272727272727],\n",
       " [6, 9.022727272727273],\n",
       " [7, 7.852941176470588],\n",
       " [11, 11.051724137931034]]"
      ]
     },
     "execution_count": 5,
     "metadata": {},
     "output_type": "execute_result"
    }
   ],
   "source": [
    "import datetime as dt\n",
    "result_list = []\n",
    "for post in ask_posts:\n",
    "    result_list.append([post[6], int(post[4])])\n",
    "\n",
    "counts_by_hour = {}\n",
    "comments_by_hour = {}\n",
    "for post in result_list:\n",
    "    hour_of_post = dt.datetime.strptime(post[0], '%m/%d/%Y %H:%M').hour\n",
    "    if hour_of_post in counts_by_hour:\n",
    "        counts_by_hour[hour_of_post] += 1\n",
    "        comments_by_hour[hour_of_post] += post[1]\n",
    "    else:\n",
    "        counts_by_hour[hour_of_post] = 1\n",
    "        comments_by_hour[hour_of_post] = post[1]\n",
    "\n",
    "avg_by_hour = []\n",
    "for hour in counts_by_hour:\n",
    "    average_comments = comments_by_hour[hour] / counts_by_hour[hour]\n",
    "    avg_by_hour.append([hour, average_comments])\n",
    "\n",
    "avg_by_hour"
   ]
  },
  {
   "cell_type": "code",
   "execution_count": 6,
   "id": "1a55df53",
   "metadata": {},
   "outputs": [
    {
     "data": {
      "text/plain": [
       "[[38.5948275862069, 15],\n",
       " [23.810344827586206, 2],\n",
       " [21.525, 20],\n",
       " [16.796296296296298, 16],\n",
       " [16.009174311926607, 21],\n",
       " [14.741176470588234, 13],\n",
       " [13.440677966101696, 10],\n",
       " [13.233644859813085, 14],\n",
       " [13.20183486238532, 18],\n",
       " [11.46, 17],\n",
       " [11.383333333333333, 1],\n",
       " [11.051724137931034, 11],\n",
       " [10.8, 19],\n",
       " [10.25, 8],\n",
       " [10.08695652173913, 5],\n",
       " [9.41095890410959, 12],\n",
       " [9.022727272727273, 6],\n",
       " [8.127272727272727, 0],\n",
       " [7.985294117647059, 23],\n",
       " [7.852941176470588, 7],\n",
       " [7.796296296296297, 3],\n",
       " [7.170212765957447, 4],\n",
       " [6.746478873239437, 22],\n",
       " [5.5777777777777775, 9]]"
      ]
     },
     "execution_count": 6,
     "metadata": {},
     "output_type": "execute_result"
    }
   ],
   "source": [
    "swap_avg_by_hour = []\n",
    "for row in avg_by_hour:\n",
    "    swap_avg_by_hour.append([row[1], row[0]])\n",
    "    \n",
    "sorted_swap = sorted(swap_avg_by_hour, reverse=True)\n",
    "sorted_swap"
   ]
  },
  {
   "cell_type": "markdown",
   "id": "dcb186e1",
   "metadata": {},
   "source": [
    "We are now able to observe the hours with the highest engagement on Ask HN posts.\n",
    "\n",
    "The dataset specifies that the times are all in the EST time zone."
   ]
  },
  {
   "cell_type": "code",
   "execution_count": 7,
   "id": "ccdcd9c5",
   "metadata": {
    "scrolled": true
   },
   "outputs": [
    {
     "name": "stdout",
     "output_type": "stream",
     "text": [
      "15:00 EST : 38.59 comments per post.\n",
      "02:00 EST : 23.81 comments per post.\n",
      "20:00 EST : 21.52 comments per post.\n",
      "16:00 EST : 16.80 comments per post.\n",
      "21:00 EST : 16.01 comments per post.\n"
     ]
    }
   ],
   "source": [
    "for i in sorted_swap[:5]:\n",
    "    time = dt.datetime.strptime(str(i[1]), '%H').strftime('%H:%M')\n",
    "    print(f'{time} EST : {i[0]:.2f} comments per post.')"
   ]
  },
  {
   "cell_type": "markdown",
   "id": "60d07e9a",
   "metadata": {},
   "source": [
    "According to this dataset, the hours of 3pm, 2am, and 8pm EST generate the highest amount of engagement on Ask Hacker News posts. "
   ]
  },
  {
   "cell_type": "code",
   "execution_count": null,
   "id": "be447e07",
   "metadata": {},
   "outputs": [],
   "source": []
  }
 ],
 "metadata": {
  "kernelspec": {
   "display_name": "Python 3 (ipykernel)",
   "language": "python",
   "name": "python3"
  },
  "language_info": {
   "codemirror_mode": {
    "name": "ipython",
    "version": 3
   },
   "file_extension": ".py",
   "mimetype": "text/x-python",
   "name": "python",
   "nbconvert_exporter": "python",
   "pygments_lexer": "ipython3",
   "version": "3.8.10"
  }
 },
 "nbformat": 4,
 "nbformat_minor": 5
}
